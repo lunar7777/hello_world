{
 "cells": [
  {
   "cell_type": "code",
   "execution_count": 1,
   "metadata": {
    "tags": []
   },
   "outputs": [
    {
     "output_type": "stream",
     "name": "stdout",
     "text": "['姓名， 性别， 年龄\\n', '佟湘玉，女，24\\n', '白展堂，男，25\\n', '郭芙蓉，女，22\\n', '吕秀才，男，25\\n', '李大嘴，男，27\\n', '莫小贝，女，10\\n', '祝无双，女，22\\n', '老邢，男，42\\n', '燕小六，男，19\\n', '上官云顿，男，51\\n', '姬无命，男，24\\n', '白眉，男，44\\n', '平谷一点红，男，34\\n', '冷血，男，26\\n', '追命，男，25\\n', '无情，女，24\\n', '铁手，男，28\\n', '李逍遥，男，19\\n', '赵灵儿，女，18\\n', '林月如，女，18\\n', '唐钰，男，19']\n"
    }
   ],
   "source": [
    "file = open('cast.txt','r',encoding='UTF-8')\n",
    "cast_lst= list(file)\n",
    "print(cast_lst)"
   ]
  },
  {
   "cell_type": "code",
   "execution_count": 4,
   "metadata": {
    "tags": []
   },
   "outputs": [
    {
     "output_type": "stream",
     "name": "stdout",
     "text": "白展堂 男 25\n\n"
    }
   ],
   "source": [
    "file = open('E:\\\\github_download\\\\workspace22\\\\melody33\\\\second_work\\\\cast.txt','r',encoding='UTF-8')\n",
    "cast_lst= list(file)\n",
    "cast_lst[1].replace(\"25\",\"1\")\n",
    "print(cast_lst[1])"
   ]
  },
  {
   "cell_type": "code",
   "execution_count": null,
   "metadata": {},
   "outputs": [],
   "source": []
  },
  {
   "cell_type": "code",
   "execution_count": null,
   "metadata": {},
   "outputs": [],
   "source": [
    "1+1"
   ]
  },
  {
   "cell_type": "code",
   "execution_count": null,
   "metadata": {},
   "outputs": [],
   "source": []
  }
 ],
 "metadata": {
  "language_info": {
   "codemirror_mode": {
    "name": "ipython",
    "version": 3
   },
   "file_extension": ".py",
   "mimetype": "text/x-python",
   "name": "python",
   "nbconvert_exporter": "python",
   "pygments_lexer": "ipython3",
   "version": "3.7.6-final"
  },
  "orig_nbformat": 2,
  "kernelspec": {
   "name": "python3",
   "display_name": "Python 3"
  }
 },
 "nbformat": 4,
 "nbformat_minor": 2
}