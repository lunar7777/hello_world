{
 "cells": [
  {
   "cell_type": "code",
   "execution_count": 5,
   "metadata": {
    "tags": []
   },
   "outputs": [
    {
     "output_type": "stream",
     "name": "stdout",
     "text": "hello\n\nworld !\n"
    }
   ],
   "source": [
    "f = open(\"C:\\\\Users\\\\Administrator\\\\Desktop\\\\111.txt\")\n",
    "for line in f:\n",
    "    print (line)\n",
    "f.close()"
   ]
  },
  {
   "cell_type": "code",
   "execution_count": 11,
   "metadata": {
    "tags": []
   },
   "outputs": [
    {
     "output_type": "stream",
     "name": "stdout",
     "text": "clear all\n"
    }
   ],
   "source": [
    "nf = open(\"C:\\\\Users\\\\Administrator\\\\Desktop\\\\12.txt\",\"w\")\n",
    "nf.write(\"clear all\")\n",
    "nf.close()\n",
    "nf = open(\"C:\\\\Users\\\\Administrator\\\\Desktop\\\\12.txt\")\n",
    "for line in nf:\n",
    "    print (line)\n",
    "nf.close()"
   ]
  },
  {
   "cell_type": "code",
   "execution_count": 12,
   "metadata": {
    "tags": []
   },
   "outputs": [
    {
     "output_type": "stream",
     "name": "stdout",
     "text": "hello\n\nworld !\n"
    }
   ],
   "source": [
    "# 注意EOF\n",
    "\n",
    "# coding=utf-8\n",
    "\n",
    "f = open(\"C:\\\\Users\\\\Administrator\\\\Desktop\\\\111.txt\")\n",
    "\n",
    "while True:\n",
    "    line = f.readline()\n",
    "    if not line:         #到 EOF，返回空字符串，则终止循环\n",
    "        break\n",
    "    print (line) ,         #注意后面的逗号，去掉 print 语句后面的 '\\n'，保留原文件中的换行\n",
    "\n",
    "f.close()                #别忘记关闭文件"
   ]
  },
  {
   "cell_type": "code",
   "execution_count": 13,
   "metadata": {
    "tags": []
   },
   "outputs": [
    {
     "output_type": "stream",
     "name": "stdout",
     "text": "5\n"
    }
   ],
   "source": [
    "# 建立函数\n",
    "def add_function(a,b):\n",
    "    c = a + b\n",
    "    print (c)\n",
    "if __name__ == \"__main__\":\n",
    "    add_function(2,3)"
   ]
  },
  {
   "cell_type": "code",
   "execution_count": 15,
   "metadata": {
    "tags": []
   },
   "outputs": [
    {
     "output_type": "stream",
     "name": "stdout",
     "text": "4.0\n"
    }
   ],
   "source": [
    "add_function(3.0,1)"
   ]
  },
  {
   "cell_type": "code",
   "execution_count": 16,
   "metadata": {
    "tags": []
   },
   "outputs": [
    {
     "output_type": "stream",
     "name": "stdout",
     "text": "[0, 1, 1, 2, 3, 5, 8, 13, 21, 34]\n"
    }
   ],
   "source": [
    "# 函数文档 \n",
    "# 三个引号的方式，包裹着对这个函数的说明，那个就是函数文档。\n",
    "def fibs(n):\n",
    "    \"\"\"\n",
    "    This is a Fibonacci sequence.\n",
    "    \"\"\"\n",
    "    result = [0,1]\n",
    "    for i in range(n-2):\n",
    "        result.append(result[-2] + result[-1])\n",
    "    return result\n",
    "\n",
    "if __name__ == \"__main__\":\n",
    "    lst = fibs(10)\n",
    "    print (lst)"
   ]
  },
  {
   "cell_type": "code",
   "execution_count": 17,
   "metadata": {
    "tags": []
   },
   "outputs": [
    {
     "output_type": "stream",
     "name": "stdout",
     "text": "13\n"
    },
    {
     "output_type": "error",
     "ename": "NameError",
     "evalue": "name 'add' is not defined",
     "traceback": [
      "\u001b[1;31m---------------------------------------------------------------------------\u001b[0m",
      "\u001b[1;31mNameError\u001b[0m                                 Traceback (most recent call last)",
      "\u001b[1;32m<ipython-input-17-788ae8ddb946>\u001b[0m in \u001b[0;36m<module>\u001b[1;34m\u001b[0m\n\u001b[0;32m      1\u001b[0m \u001b[0madd_function\u001b[0m\u001b[1;33m(\u001b[0m\u001b[1;36m10\u001b[0m\u001b[1;33m,\u001b[0m\u001b[1;36m3\u001b[0m\u001b[1;33m)\u001b[0m\u001b[1;33m\u001b[0m\u001b[1;33m\u001b[0m\u001b[0m\n\u001b[1;32m----> 2\u001b[1;33m \u001b[0madd\u001b[0m\u001b[1;33m(\u001b[0m\u001b[1;36m3\u001b[0m\u001b[1;33m,\u001b[0m\u001b[1;36m10\u001b[0m\u001b[1;33m)\u001b[0m\u001b[1;33m\u001b[0m\u001b[1;33m\u001b[0m\u001b[0m\n\u001b[0m\u001b[0;32m      3\u001b[0m \u001b[0madd\u001b[0m\u001b[1;33m(\u001b[0m\u001b[0my\u001b[0m\u001b[1;33m=\u001b[0m\u001b[1;36m10\u001b[0m\u001b[1;33m,\u001b[0m\u001b[0mx\u001b[0m\u001b[1;33m=\u001b[0m\u001b[1;36m3\u001b[0m\u001b[1;33m)\u001b[0m\u001b[1;33m\u001b[0m\u001b[1;33m\u001b[0m\u001b[0m\n\u001b[0;32m      4\u001b[0m \u001b[0mtimes\u001b[0m\u001b[1;33m(\u001b[0m\u001b[1;36m3\u001b[0m\u001b[1;33m)\u001b[0m\u001b[1;33m\u001b[0m\u001b[1;33m\u001b[0m\u001b[0m\n\u001b[0;32m      5\u001b[0m \u001b[0mtimes\u001b[0m\u001b[1;33m(\u001b[0m\u001b[0mx\u001b[0m\u001b[1;33m=\u001b[0m\u001b[1;36m3\u001b[0m\u001b[1;33m)\u001b[0m\u001b[1;33m\u001b[0m\u001b[1;33m\u001b[0m\u001b[0m\n",
      "\u001b[1;31mNameError\u001b[0m: name 'add' is not defined"
     ]
    }
   ],
   "source": [
    "add_function(10,3)\n",
    "add(3,10)\n",
    "add(y=10,x=3)\n",
    "times(3)\n",
    "times(x=3)\n",
    "fibs.__doc__"
   ]
  },
  {
   "cell_type": "code",
   "execution_count": 18,
   "metadata": {},
   "outputs": [],
   "source": [
    "def add(x,y):       #为了能够更明了显示参数赋值特点，重写此函数\n",
    "        print (\"x=\",x)    #分别打印参数赋值结果\n",
    "        print (\"y=\",y)\n",
    "        return x+y"
   ]
  },
  {
   "cell_type": "code",
   "execution_count": 20,
   "metadata": {},
   "outputs": [],
   "source": [
    "def times(x,y=2):       #y的默认值为 2\n",
    "...     print (\"x=\",x)\n",
    "...     print (\"y=\",y)\n",
    "...     return x*y"
   ]
  },
  {
   "cell_type": "code",
   "execution_count": 21,
   "metadata": {
    "tags": []
   },
   "outputs": [
    {
     "output_type": "stream",
     "name": "stdout",
     "text": "13\nx= 3\ny= 10\nx= 3\ny= 10\nx= 3\ny= 2\nx= 3\ny= 2\n"
    },
    {
     "output_type": "execute_result",
     "data": {
      "text/plain": "'\\n    This is a Fibonacci sequence.\\n    '"
     },
     "metadata": {},
     "execution_count": 21
    }
   ],
   "source": [
    "add_function(10,3)\n",
    "add(3,10)\n",
    "add(y=10,x=3)\n",
    "times(3)\n",
    "times(x=3)\n",
    "fibs.__doc__"
   ]
  },
  {
   "cell_type": "code",
   "execution_count": 22,
   "metadata": {
    "tags": []
   },
   "outputs": [
    {
     "output_type": "stream",
     "name": "stdout",
     "text": "1\n(2, 3, 4, 5, 6, 7, 8, 9)\n45\n"
    }
   ],
   "source": [
    "# 参数收集 \n",
    "# 函数的参数的个数的不确定性 \n",
    "# 加 * ，用元组收集后续所有参数\n",
    "def func(x,*arg):\n",
    "    print (x)         #输出参数 x 的值\n",
    "    result = x\n",
    "    print (arg)       #输出通过 *arg 方式得到的值\n",
    "    for i in arg:\n",
    "        result +=i\n",
    "    return result\n",
    "\n",
    "print (func(1,2,3,4,5,6,7,8,9))    #赋给函数的参数个数不仅仅是  2个"
   ]
  },
  {
   "cell_type": "code",
   "execution_count": 23,
   "metadata": {
    "tags": []
   },
   "outputs": [
    {
     "output_type": "stream",
     "name": "stdout",
     "text": "{'a': 1, 'b': 2, 'c': 3}\n"
    }
   ],
   "source": [
    "def foo(**kargs):\n",
    "        print (kargs)\n",
    "if __name__ == \"__main__\":\n",
    "    foo(a=1,b=2,c=3)"
   ]
  },
  {
   "cell_type": "code",
   "execution_count": 24,
   "metadata": {
    "tags": []
   },
   "outputs": [
    {
     "output_type": "stream",
     "name": "stdout",
     "text": "1\n2\n3\n(4, 5)\n{'name': 'qiwsir'}\n"
    }
   ],
   "source": [
    "def foo(x,y,z,*args,**kargs):\n",
    "        print (x) \n",
    "        print (y)\n",
    "        print (z)\n",
    "        print (args)\n",
    "        print (kargs)  \n",
    "foo(1,2,3,4,5,name=\"qiwsir\") "
   ]
  },
  {
   "cell_type": "code",
   "execution_count": 26,
   "metadata": {
    "tags": []
   },
   "outputs": [
    {
     "output_type": "stream",
     "name": "stdout",
     "text": "xsf is writing Starter learning Python\n"
    }
   ],
   "source": [
    "def book(author,name):\n",
    "     print (\"%s is writing %s\" % (author,name))\n",
    "\n",
    "bars = {\"name\":\"Starter learning Python\",\"author\":\"xsf\"}\n",
    "book(**bars)"
   ]
  },
  {
   "cell_type": "code",
   "execution_count": null,
   "metadata": {},
   "outputs": [],
   "source": []
  }
 ],
 "metadata": {
  "language_info": {
   "codemirror_mode": {
    "name": "ipython",
    "version": 3
   },
   "file_extension": ".py",
   "mimetype": "text/x-python",
   "name": "python",
   "nbconvert_exporter": "python",
   "pygments_lexer": "ipython3",
   "version": "3.7.3-final"
  },
  "orig_nbformat": 2,
  "kernelspec": {
   "name": "python37364bit219b4b27bedd4435bff93cc33b5594e6",
   "display_name": "Python 3.7.3 64-bit"
  }
 },
 "nbformat": 4,
 "nbformat_minor": 2
}